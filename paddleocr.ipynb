{
 "cells": [
  {
   "cell_type": "code",
   "execution_count": 3,
   "outputs": [
    {
     "ename": "ModuleNotFoundError",
     "evalue": "No module named 'paddle'",
     "output_type": "error",
     "traceback": [
      "\u001B[0;31m---------------------------------------------------------------------------\u001B[0m",
      "\u001B[0;31mModuleNotFoundError\u001B[0m                       Traceback (most recent call last)",
      "\u001B[0;32m/tmp/ipykernel_36333/2886793104.py\u001B[0m in \u001B[0;36m<module>\u001B[0;34m\u001B[0m\n\u001B[0;32m----> 1\u001B[0;31m \u001B[0;32mfrom\u001B[0m \u001B[0mpaddleocr\u001B[0m \u001B[0;32mimport\u001B[0m \u001B[0mPaddleOCR\u001B[0m\u001B[0;34m\u001B[0m\u001B[0;34m\u001B[0m\u001B[0m\n\u001B[0m\u001B[1;32m      2\u001B[0m \u001B[0;32mimport\u001B[0m \u001B[0mmatplotlib\u001B[0m\u001B[0;34m.\u001B[0m\u001B[0mpyplot\u001B[0m \u001B[0;32mas\u001B[0m \u001B[0mplt\u001B[0m\u001B[0;34m\u001B[0m\u001B[0;34m\u001B[0m\u001B[0m\n\u001B[1;32m      3\u001B[0m \u001B[0;32mimport\u001B[0m \u001B[0mre\u001B[0m\u001B[0;34m\u001B[0m\u001B[0;34m\u001B[0m\u001B[0m\n\u001B[1;32m      4\u001B[0m \u001B[0;32mimport\u001B[0m \u001B[0mnumpy\u001B[0m \u001B[0;32mas\u001B[0m \u001B[0mnp\u001B[0m\u001B[0;34m\u001B[0m\u001B[0;34m\u001B[0m\u001B[0m\n\u001B[1;32m      5\u001B[0m \u001B[0;31m#from matplotlib import pyplot as plt\u001B[0m\u001B[0;34m\u001B[0m\u001B[0;34m\u001B[0m\u001B[0;34m\u001B[0m\u001B[0m\n",
      "\u001B[0;32m/usr/local/lib/python3.7/site-packages/paddleocr/__init__.py\u001B[0m in \u001B[0;36m<module>\u001B[0;34m\u001B[0m\n\u001B[1;32m     12\u001B[0m \u001B[0;31m# See the License for the specific language governing permissions and\u001B[0m\u001B[0;34m\u001B[0m\u001B[0;34m\u001B[0m\u001B[0;34m\u001B[0m\u001B[0m\n\u001B[1;32m     13\u001B[0m \u001B[0;31m# limitations under the License.\u001B[0m\u001B[0;34m\u001B[0m\u001B[0;34m\u001B[0m\u001B[0;34m\u001B[0m\u001B[0m\n\u001B[0;32m---> 14\u001B[0;31m \u001B[0;32mfrom\u001B[0m \u001B[0;34m.\u001B[0m\u001B[0mpaddleocr\u001B[0m \u001B[0;32mimport\u001B[0m \u001B[0;34m*\u001B[0m\u001B[0;34m\u001B[0m\u001B[0;34m\u001B[0m\u001B[0m\n\u001B[0m\u001B[1;32m     15\u001B[0m \u001B[0;34m\u001B[0m\u001B[0m\n\u001B[1;32m     16\u001B[0m \u001B[0m__version__\u001B[0m \u001B[0;34m=\u001B[0m \u001B[0mpaddleocr\u001B[0m\u001B[0;34m.\u001B[0m\u001B[0mVERSION\u001B[0m\u001B[0;34m\u001B[0m\u001B[0;34m\u001B[0m\u001B[0m\n",
      "\u001B[0;32m/usr/local/lib/python3.7/site-packages/paddleocr/paddleocr.py\u001B[0m in \u001B[0;36m<module>\u001B[0;34m\u001B[0m\n\u001B[1;32m     19\u001B[0m \u001B[0m__dir__\u001B[0m \u001B[0;34m=\u001B[0m \u001B[0mos\u001B[0m\u001B[0;34m.\u001B[0m\u001B[0mpath\u001B[0m\u001B[0;34m.\u001B[0m\u001B[0mdirname\u001B[0m\u001B[0;34m(\u001B[0m\u001B[0m__file__\u001B[0m\u001B[0;34m)\u001B[0m\u001B[0;34m\u001B[0m\u001B[0;34m\u001B[0m\u001B[0m\n\u001B[1;32m     20\u001B[0m \u001B[0;34m\u001B[0m\u001B[0m\n\u001B[0;32m---> 21\u001B[0;31m \u001B[0;32mimport\u001B[0m \u001B[0mpaddle\u001B[0m\u001B[0;34m\u001B[0m\u001B[0;34m\u001B[0m\u001B[0m\n\u001B[0m\u001B[1;32m     22\u001B[0m \u001B[0;34m\u001B[0m\u001B[0m\n\u001B[1;32m     23\u001B[0m \u001B[0msys\u001B[0m\u001B[0;34m.\u001B[0m\u001B[0mpath\u001B[0m\u001B[0;34m.\u001B[0m\u001B[0mappend\u001B[0m\u001B[0;34m(\u001B[0m\u001B[0mos\u001B[0m\u001B[0;34m.\u001B[0m\u001B[0mpath\u001B[0m\u001B[0;34m.\u001B[0m\u001B[0mjoin\u001B[0m\u001B[0;34m(\u001B[0m\u001B[0m__dir__\u001B[0m\u001B[0;34m,\u001B[0m \u001B[0;34m''\u001B[0m\u001B[0;34m)\u001B[0m\u001B[0;34m)\u001B[0m\u001B[0;34m\u001B[0m\u001B[0;34m\u001B[0m\u001B[0m\n",
      "\u001B[0;31mModuleNotFoundError\u001B[0m: No module named 'paddle'"
     ]
    }
   ],
   "source": [
    "from paddleocr import PaddleOCR\n",
    "import matplotlib.pyplot as plt\n",
    "import re\n",
    "import numpy as np\n",
    "#from matplotlib import pyplot as plt\n",
    "import cv2\n",
    "import os\n",
    "import glob\n",
    "\n",
    "img_dir = \"real_imgs/\"\n",
    "data_path = os.path.join(img_dir,'*.png')\n",
    "files = glob.glob(data_path)\n",
    "fig = plt.figure(figsize=(300,300))\n",
    "\n",
    "def match_license_plate(result):\n",
    "\n",
    "    for idx,e in enumerate(result):\n",
    "        print(\"OCR text:\", result[idx][1][0], \"matches license plate?\")\n",
    "        regex = '^[EB]?[0-9]{1,4}\\s?[BCDFGHJKLMNPQRSTVWXYZ]{1,3}$'\n",
    "        m = re.search(regex,result[idx][1][0])\n",
    "        if m:\n",
    "            print(\"Yes, it matches (idx:\", idx, \")\")\n",
    "            return idx\n",
    "        else:\n",
    "            print(\"No, it doesn't match\")\n",
    "\n",
    "    return None;\n",
    "\n",
    "for count, fimg in enumerate(files):\n",
    "   print()\n",
    "   print(\"fimg:\",fimg)\n",
    "   demo = cv2.imread(fimg, cv2.IMREAD_COLOR)\n",
    "   print(\"demo shape:\",demo.shape)\n",
    "   ocr = PaddleOCR(lang='en', show_log=False)\n",
    "   result = ocr.ocr(demo)\n",
    "   print(\"full OCR result:\", result)\n",
    "   idx = match_license_plate(result)\n",
    "\n",
    "   if idx is not None:\n",
    "        print(\"OCR box:\", result[idx][0][0], \"|\",result[idx][0][1], \"|\",result[idx][0][2], \"|\",result[idx][0][3])\n",
    "        print(\"OCR license plate:\", result[idx][1][0])\n",
    "        print(\"OCR confidence:\", result[idx][1][1])\n",
    "        box = np.array(((int(result[idx][0][0][0]),int(result[idx][0][0][1])),(int(result[idx][0][1][0]),int(result[idx][0][1][1])),(int(result[idx][0][2][0]),int(result[idx][0][2][1])),(int(result[idx][0][3][0]),int(result[idx][0][3][1])),(int(result[idx][0][0][0]),int(result[idx][0][0][1]))), dtype=np.int32)\n",
    "        image_with_prediction = cv2.polylines(demo,[box],isClosed=False,color=(255, 0, 0),thickness=4)\n",
    "        fig.add_subplot(3, 5, count + 1)\n",
    "        plt.imshow(image_with_prediction)"
   ],
   "metadata": {
    "collapsed": false,
    "pycharm": {
     "name": "#%%\n"
    }
   }
  },
  {
   "cell_type": "code",
   "execution_count": null,
   "outputs": [],
   "source": [],
   "metadata": {
    "collapsed": false,
    "pycharm": {
     "name": "#%%\n"
    }
   }
  }
 ],
 "metadata": {
  "kernelspec": {
   "display_name": "Python 3",
   "language": "python",
   "name": "python3"
  },
  "language_info": {
   "codemirror_mode": {
    "name": "ipython",
    "version": 2
   },
   "file_extension": ".py",
   "mimetype": "text/x-python",
   "name": "python",
   "nbconvert_exporter": "python",
   "pygments_lexer": "ipython2",
   "version": "2.7.6"
  }
 },
 "nbformat": 4,
 "nbformat_minor": 0
}